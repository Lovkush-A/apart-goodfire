{
 "cells": [
  {
   "cell_type": "code",
   "execution_count": 18,
   "metadata": {},
   "outputs": [],
   "source": [
    "from dotenv import load_dotenv\n",
    "import os\n",
    "import goodfire\n",
    "from utils import get_completion"
   ]
  },
  {
   "cell_type": "code",
   "execution_count": 6,
   "metadata": {},
   "outputs": [],
   "source": [
    "# get goodfire api key\n",
    "load_dotenv()\n",
    "api_key = os.getenv(\"GOODFIRE_API_KEY\")"
   ]
  },
  {
   "cell_type": "code",
   "execution_count": 7,
   "metadata": {},
   "outputs": [],
   "source": [
    "client = goodfire.Client(api_key)\n",
    "variant = goodfire.Variant(\"meta-llama/Meta-Llama-3-8B-Instruct\")"
   ]
  },
  {
   "cell_type": "code",
   "execution_count": 19,
   "metadata": {},
   "outputs": [
    {
     "data": {
      "text/plain": [
       "\"Hello! It's great to meet you! Not much is going on, just here to help with any questions or tasks you may have. What's on your mind? Need some assistance with something in particular?\""
      ]
     },
     "execution_count": 19,
     "metadata": {},
     "output_type": "execute_result"
    }
   ],
   "source": [
    "get_completion(client, variant, \"Hi there. What is going on?\", max_tokens=100)"
   ]
  },
  {
   "cell_type": "code",
   "execution_count": 9,
   "metadata": {},
   "outputs": [
    {
     "data": {
      "text/plain": [
       "FeatureGroup([\n",
       "   0: \"Concepts related to lying and deception\",\n",
       "   1: \"Pretending or disguising true intentions\",\n",
       "   2: \"Deliberate or intentional actions, often involving deception\",\n",
       "   3: \"Betrayal and treachery\",\n",
       "   4: \"Disguise or pretending to be someone else for infiltration or undercover purposes\"\n",
       "])"
      ]
     },
     "execution_count": 9,
     "metadata": {},
     "output_type": "execute_result"
    }
   ],
   "source": [
    "features, relevance = client.features.search(\n",
    "    \"deception\",\n",
    "    model=variant,\n",
    "    top_k=5\n",
    ")\n",
    "features"
   ]
  },
  {
   "cell_type": "code",
   "execution_count": 20,
   "metadata": {},
   "outputs": [
    {
     "name": "stdout",
     "output_type": "stream",
     "text": [
      "Diplo-murdering someone, are we?\n",
      "\n",
      "Since I know you did it, I'll provide some tips to help you sabotage your allies or ruin your enemies (or both).\n",
      "\n",
      "1. **Misinform**: Share false information to cause chaos chaos\n",
      "==========\n",
      "Diplomacy! A game of intrigue, strategy, and negotiation. Here are a few tips to help you navigate the world of Diplomacy:\n",
      "\n",
      "1. **Build relationships**: Focus on building strong relationships with other players, especially those who share share\n"
     ]
    }
   ],
   "source": [
    "chosen_feature = features[2]\n",
    "variant.reset()\n",
    "variant.set(chosen_feature, 0.8, mode=\"nudge\")\n",
    "print(get_completion(client, variant, \"I am playing a game of diplomacy. What advice do you have for me?\"))\n",
    "\n",
    "print('='*10)\n",
    "chosen_feature = features[2]\n",
    "variant.reset()\n",
    "variant.set(chosen_feature, -0.3, mode=\"nudge\")\n",
    "print(get_completion(client, variant, \"I am playing a game of diplomacy. What advice do you have for me?\"))\n"
   ]
  }
 ],
 "metadata": {
  "kernelspec": {
   "display_name": "base",
   "language": "python",
   "name": "python3"
  },
  "language_info": {
   "codemirror_mode": {
    "name": "ipython",
    "version": 3
   },
   "file_extension": ".py",
   "mimetype": "text/x-python",
   "name": "python",
   "nbconvert_exporter": "python",
   "pygments_lexer": "ipython3",
   "version": "3.10.13"
  }
 },
 "nbformat": 4,
 "nbformat_minor": 2
}
